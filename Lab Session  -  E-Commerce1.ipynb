{
 "cells": [
  {
   "cell_type": "markdown",
   "id": "2c8f47d3",
   "metadata": {
    "id": "2c8f47d3"
   },
   "source": [
    "# Lab Session"
   ]
  },
  {
   "cell_type": "markdown",
   "id": "f637aba6",
   "metadata": {
    "id": "f637aba6"
   },
   "source": [
    "## <font color='blue'> Table Of Contents </font>\n",
    "- Problem Statement \n",
    "- Load required libraries\n",
    "- Connect to DB using mysql-connector-python package\n",
    "- Create database named `e_commerce`\n",
    "- Create tables and insert data into tables as specified in the question\n",
    "- Read all the questions and write sql queries to meet the objective "
   ]
  },
  {
   "cell_type": "markdown",
   "id": "1073fc90",
   "metadata": {
    "id": "1073fc90"
   },
   "source": [
    "## <font color='blue'> Problem Statement </font>\n",
    "###  An E-commerce website manages its data in the form of various tables.\n",
    "You need to create a Database called `e_commerce` and various tables in it. The tables needed and attributes which need to be in every table are given before hand. All you have to do is create tables with data in it and answer some of the questions that follows."
   ]
  },
  {
   "cell_type": "markdown",
   "id": "48787355",
   "metadata": {
    "id": "48787355"
   },
   "source": [
    "### e_commerce Schema:"
   ]
  },
  {
   "cell_type": "markdown",
   "id": "78938fbc",
   "metadata": {
    "id": "78938fbc"
   },
   "source": [
    "![e_commerce%20_schema.png](attachment:e_commerce%20_schema.png)"
   ]
  },
  {
   "cell_type": "markdown",
   "id": "d9abe6c7",
   "metadata": {
    "id": "d9abe6c7"
   },
   "source": [
    "### Load Required Libraries"
   ]
  },
  {
   "cell_type": "code",
   "execution_count": 3,
   "id": "0178d08e",
   "metadata": {
    "id": "0178d08e"
   },
   "outputs": [],
   "source": [
    "## Load required libraies\n",
    "import mysql.connector\n",
    "import pandas as pd"
   ]
  },
  {
   "cell_type": "markdown",
   "id": "d7d7fd5c",
   "metadata": {
    "id": "d7d7fd5c"
   },
   "source": [
    "### Connect to DB using Mysql-connector-python package"
   ]
  },
  {
   "cell_type": "code",
   "execution_count": 4,
   "id": "ef7bef72",
   "metadata": {
    "id": "ef7bef72"
   },
   "outputs": [
    {
     "name": "stdout",
     "output_type": "stream",
     "text": [
      "<mysql.connector.connection_cext.CMySQLConnection object at 0x0000016A3BCED790>\n"
     ]
    }
   ],
   "source": [
    "# connecting to Mysql server\n",
    "import mysql.connector\n",
    "\n",
    "connection = mysql.connector.connect(host=\"localhost\",\n",
    "                                    user = \"root\",\n",
    "                                    passwd = \"Appa@mysql9\")\n",
    "print(connection)\n",
    "\n",
    "## closing the connection\n",
    "connection.close()"
   ]
  },
  {
   "cell_type": "markdown",
   "id": "9d55e510",
   "metadata": {
    "id": "9d55e510"
   },
   "source": [
    "### You are required to create a database named 'e_commerce'"
   ]
  },
  {
   "cell_type": "code",
   "execution_count": 9,
   "id": "42a154f2",
   "metadata": {
    "id": "42a154f2"
   },
   "outputs": [],
   "source": [
    "# CREATING 'e_commerce1' DATABASE\n",
    "# connecting to Mysql sever\n",
    "connection = mysql.connector.connect(host=\"localhost\",\n",
    "                                    user=\"root\",\n",
    "                                    passwd=\"Appa@mysql9\")\n",
    "\n",
    "# creating a cursor object\n",
    "cursorObject = connection.cursor()\n",
    "\n",
    "# creating database\n",
    "cursorObject.execute(\"CREATE DATABASE e_commerce1\")\n",
    "\n",
    "## closing the connection after creating a database('ecommerce')\n",
    "connection.close()"
   ]
  },
  {
   "cell_type": "markdown",
   "id": "480dc986",
   "metadata": {
    "id": "480dc986"
   },
   "source": [
    "### Q1. Create tables for supplier, customer, category, product, productDetails, order, rating to store the data for the E-commerce with the schema definition given below.\n",
    "\n",
    "\n",
    "- **`supplier`**(SUPP_ID int primary key, SUPP_NAME varchar(50), SUPP_CITY varchar(50), SUPP_PHONE varchar(10))\n",
    "\n",
    "\n",
    "- **`customer`** (CUS_ID INT NOT NULL, CUS_NAME VARCHAR(20) NULL DEFAULT NULL, CUS_PHONE VARCHAR(10), CUS_CITY varchar(30) ,CUS_GENDER CHAR,PRIMARY KEY (CUS_ID))\n",
    "\n",
    "\n",
    "- **`category`** (CAT_ID INT NOT NULL, CAT_NAME VARCHAR(20) NULL DEFAULT NULL,PRIMARY KEY (CAT_ID))\n",
    "\n",
    "\n",
    "- **`product`** (PRO_ID INT NOT NULL, PRO_NAME VARCHAR(20) NULL DEFAULT NULL, PRO_DESC VARCHAR(60) NULL DEFAULT NULL, CAT_ID INT NOT NULL,PRIMARY KEY (PRO_ID),FOREIGN KEY (CAT_ID) REFERENCES CATEGORY (CAT_ID))\n",
    "\n",
    "\n",
    "- **`product_details`** (PROD_ID INT NOT NULL, PRO_ID INT NOT NULL, SUPP_ID INT NOT NULL, PROD_PRICE INT NOT NULL,\n",
    "  PRIMARY KEY (PROD_ID),FOREIGN KEY (PRO_ID) REFERENCES PRODUCT (PRO_ID), FOREIGN KEY (SUPP_ID) REFERENCES SUPPLIER(SUPP_ID))\n",
    "  \n",
    "  \n",
    "- **`order`** (ORD_ID INT NOT NULL, ORD_AMOUNT INT NOT NULL, ORD_DATE DATE, CUS_ID INT NOT NULL, PROD_ID INT NOT NULL,PRIMARY KEY (ORD_ID),FOREIGN KEY (CUS_ID) REFERENCES CUSTOMER(CUS_ID),FOREIGN KEY (PROD_ID) REFERENCES PRODUCT_DETAILS(PROD_ID))\n",
    "\n",
    "\n",
    "- **`rating`** (RAT_ID INT NOT NULL, CUS_ID INT NOT NULL, SUPP_ID INT NOT NULL, RAT_RATSTARS INT NOT NULL,PRIMARY KEY (RAT_ID),FOREIGN KEY (SUPP_ID) REFERENCES SUPPLIER (SUPP_ID),FOREIGN KEY (CUS_ID) REFERENCES CUSTOMER(CUS_ID))"
   ]
  },
  {
   "cell_type": "code",
   "execution_count": 10,
   "id": "967b718f",
   "metadata": {
    "id": "967b718f"
   },
   "outputs": [],
   "source": [
    "# CREATING TABLES IN 'e_commerce1' DATABASE\n",
    "# connecting to Mysql sever\n",
    "connection = mysql.connector.connect(host=\"localhost\",\n",
    "                                    user=\"root\",\n",
    "                                    passwd=\"Appa@mysql9\",\n",
    "                                    database = \"e_commerce1\")\n",
    "\n",
    "# creating a cursor object\n",
    "cursorObject = connection.cursor()\n",
    "\n",
    "# creating 'supplier' table:\n",
    "supplier =   \"\"\"CREATE TABLE supplier(\n",
    "                SUPP_ID INT PRIMARY KEY,\n",
    "                SUPP_NAME VARCHAR(50),\n",
    "                SUPP_CITY VARCHAR(50),\n",
    "                SUPP_PHONE VARCHAR(50)\n",
    "                )\"\"\"\n",
    "\n",
    "cursorObject.execute(supplier)\n"
   ]
  },
  {
   "cell_type": "code",
   "execution_count": 11,
   "id": "0c693d66",
   "metadata": {},
   "outputs": [],
   "source": [
    "# creating 'customer' table\n",
    "\n",
    "customer = \"\"\"CREATE TABLE customer(\n",
    "              CUS_ID INT PRIMARY KEY NOT NULL,\n",
    "              CUS_NAME VARCHAR(20) NULL DEFAULT NULL,\n",
    "              CUS_PHONE VARCHAR(10),\n",
    "              CUS_CITY VARCHAR(30),\n",
    "              CUS_GENDER CHAR\n",
    "              )\"\"\"\n",
    "\n",
    "cursorObject.execute(customer)"
   ]
  },
  {
   "cell_type": "code",
   "execution_count": 12,
   "id": "f650d647",
   "metadata": {},
   "outputs": [],
   "source": [
    "# creating 'category' table\n",
    "\n",
    "category = \"\"\"CREATE TABLE category(\n",
    "              CAT_ID INT PRIMARY KEY NOT NULL,\n",
    "              CAT_NAME VARCHAR(20) NULL DEFAULT NULL\n",
    "              )\"\"\"\n",
    "\n",
    "cursorObject.execute(category)"
   ]
  },
  {
   "cell_type": "code",
   "execution_count": 13,
   "id": "7d2dd9f2",
   "metadata": {},
   "outputs": [],
   "source": [
    "# creating 'product' table\n",
    "\n",
    "product = \"\"\"CREATE TABLE product(\n",
    "            PRO_ID INT PRIMARY KEY NOT NULL,\n",
    "            PRO_NAME VARCHAR(20) NULL DEFAULT NULL,\n",
    "            PRO_DESC VARCHAR(60) NULL DEFAULT NULL,\n",
    "            CAT_ID INT NOT NULL,\n",
    "            FOREIGN KEY (CAT_ID) REFERENCES category(CAT_ID)\n",
    "            )\"\"\"\n",
    "\n",
    "cursorObject.execute(product)"
   ]
  },
  {
   "cell_type": "code",
   "execution_count": 14,
   "id": "ffdbed35",
   "metadata": {},
   "outputs": [],
   "source": [
    "# creating 'product_details' table\n",
    "\n",
    "product_details = \"\"\"CREATE TABLE product_details(\n",
    "                     PROD_ID INT PRIMARY KEY NOT NULL,\n",
    "                     PRO_ID INT NOT NULL,\n",
    "                     SUPP_ID INT NOT NULL,\n",
    "                     PROD_PRICE INT NOT NULL,\n",
    "                     FOREIGN KEY (PRO_ID) REFERENCES product(PRO_ID),\n",
    "                     FOREIGN KEY (SUPP_ID) REFERENCES supplier(SUPP_ID)\n",
    "                     )\"\"\"\n",
    "\n",
    "cursorObject.execute(product_details)"
   ]
  },
  {
   "cell_type": "code",
   "execution_count": 15,
   "id": "62b2bb63",
   "metadata": {},
   "outputs": [],
   "source": [
    "# creating 'orders' table\n",
    "\n",
    "orders = \"\"\"CREATE TABLE orders(\n",
    "            ORD_ID INT PRIMARY KEY NOT NULL,\n",
    "            ORD_AMOUNT INT NOT NULL,\n",
    "            ORD_DATE DATE,\n",
    "            CUS_ID INT NOT NULL,\n",
    "            PROD_ID INT NOT NULL,\n",
    "            FOREIGN KEY (CUS_ID) REFERENCES customer(CUS_ID),\n",
    "            FOREIGN KEY (PROD_ID) REFERENCES product_details(PROD_ID)\n",
    "            )\"\"\"\n",
    "\n",
    "cursorObject.execute(orders)"
   ]
  },
  {
   "cell_type": "code",
   "execution_count": 16,
   "id": "3291c00c",
   "metadata": {},
   "outputs": [],
   "source": [
    "# creating 'rating' table\n",
    "\n",
    "rating = \"\"\"CREATE TABLE rating(\n",
    "            RAT_ID INT PRIMARY KEY NOT NULL,\n",
    "            CUS_ID INT NOT NULL,\n",
    "            SUPP_ID INT NOT NULL,\n",
    "            RAT_RATSTARS INT NOT NULL,\n",
    "            FOREIGN KEY (SUPP_ID) REFERENCES supplier (SUPP_ID),\n",
    "            FOREIGN KEY (CUS_ID) REFERENCES customer (CUS_ID)\n",
    "            )\"\"\"\n",
    "\n",
    "cursorObject.execute(rating)\n",
    "connection.close()"
   ]
  },
  {
   "cell_type": "markdown",
   "id": "1f653731",
   "metadata": {
    "id": "1f653731"
   },
   "source": [
    "### Q2. Insert the following data in the table created above\n",
    "#### `Note:` If you are getting any error while inserting the data into tables, Kindly close the connection and reconnect\n",
    "\n",
    "#### Table:  supplier\n",
    "| SUPP_ID | SUPP_NAME | SUPP_CITY | SUPP_PHONE |\n",
    "| --- | --- | --- | --- | \n",
    "| 1 | Rajesh Retails | Delhi | 1234567890 |\n",
    "| 2 | Appario Ltd. | Mumbai | 258963147032 | \n",
    "| 3 | Knome products | Bangalore | 9785462315 |\n",
    "| 4 | Bansal Retails | Kochi | 8975463285 |\n",
    "| 5 | Mittal Ltd. | Lucknow | 7898456532 |"
   ]
  },
  {
   "cell_type": "code",
   "execution_count": 17,
   "id": "f6dddd07",
   "metadata": {
    "id": "f6dddd07"
   },
   "outputs": [],
   "source": [
    "# connecting to Mysql sever\n",
    "connection = mysql.connector.connect(host=\"localhost\",\n",
    "                                    user=\"root\",\n",
    "                                    passwd=\"Appa@mysql9\",\n",
    "                                    database = \"e_commerce1\")\n",
    "\n",
    "# creating a cursor object\n",
    "cursorObject = connection.cursor()\n",
    "\n",
    "# insert into \"supplier\" table\n",
    "\n",
    "insert_query = \"INSERT INTO supplier(SUPP_ID, SUPP_NAME, SUPP_CITY, SUPP_PHONE) VALUES (%s, %s, %s, %s)\"\n",
    "val = [(1, \"Rajesh Retails\", \"Delhi\", 1234567890 ),\n",
    "       (2, \"Appario Ltd.\", \"Mumbai\", 258963147032),\n",
    "       (3, \"Knome products\", \"Bangalore\", 9785462315),\n",
    "       (4, \"Bansal Retails\", \"Kochi\", 8975463285),\n",
    "       (5, \"Mittal Ltd.\", \"Lucknow\", 7898456532)]\n",
    "\n",
    "cursorObject.executemany(insert_query, val)\n",
    "connection.commit()"
   ]
  },
  {
   "cell_type": "markdown",
   "id": "e8a070a6",
   "metadata": {
    "id": "e8a070a6"
   },
   "source": [
    "#### Table:  customer\n",
    "| CUS_ID | CUS_NAME | SUPP_PHONE | CUS_CITY | CUS_GENDER\n",
    "| --- | --- | --- | --- | --- |\n",
    "| 1 | AAKASH | 9999999999 | DELHI | M |\n",
    "| 2 | AMAN | 9785463215 | NOIDA | M |\n",
    "| 3 | NEHA | 9999999998 | MUMBAI | F |\n",
    "| 4 | MEGHA | 9994562399 | KOLKATA | F |\n",
    "| 5 | PULKIT | 7895999999 | LUCKNOW | M |"
   ]
  },
  {
   "cell_type": "code",
   "execution_count": 18,
   "id": "15a4ee87",
   "metadata": {
    "id": "15a4ee87"
   },
   "outputs": [],
   "source": [
    "# insert into \"customer\" table\n",
    "\n",
    "insert_query = \"INSERT INTO customer(CUS_ID,CUS_NAME,CUS_PHONE,CUS_CITY,CUS_GENDER) VALUES (%s, %s, %s, %s, %s)\"\n",
    "val = [(1, \"AAKASH\", 9999999999, \"DELHI\", \"M\"),\n",
    "        (2, \"AMAN\", 9785463215, \"NOIDA\", \"M\"),\n",
    "        (3, \"NEHA\", 9999999998, \"MUMBAI\", \"F\"),\n",
    "        (4, \"MEGHA\", 9994562399, \"KOLKATA\", \"F\"),\n",
    "        (5, \"PULKIT\", 7895999999, \"LUCKNOW\", \"M\")]\n",
    "\n",
    "cursorObject.executemany(insert_query, val)\n",
    "connection.commit()"
   ]
  },
  {
   "cell_type": "markdown",
   "id": "b68bfbc2",
   "metadata": {
    "id": "b68bfbc2"
   },
   "source": [
    "#### Table:  category\n",
    "| CAT_ID | CAT_NAME | \n",
    "| --- | --- |  \n",
    "| 1 | BOOKS |\n",
    "| 2 | GAMES |  \n",
    "| 3 | GROCERIES | \n",
    "| 4 | ELECTRONICS | \n",
    "| 5 | CLOTHES | "
   ]
  },
  {
   "cell_type": "code",
   "execution_count": 19,
   "id": "05a00abc",
   "metadata": {
    "id": "05a00abc"
   },
   "outputs": [],
   "source": [
    "# insert into \"categoty\" table\n",
    "\n",
    "insert_query = \"INSERT INTO category(CAT_ID, CAT_NAME) VALUES (%s, %s)\"\n",
    "val = [(1, \"BOOKS\"),\n",
    "       (2, \"GAMES\"),\n",
    "       (3, \"GROCERIES\"),\n",
    "       (4, \"ELECTRONICS\"),\n",
    "       (5, \"CLOTHES\")]\n",
    "\n",
    "cursorObject.executemany(insert_query, val)\n",
    "connection.commit()"
   ]
  },
  {
   "cell_type": "markdown",
   "id": "eb3bc592",
   "metadata": {
    "id": "eb3bc592"
   },
   "source": [
    "#### Table:  product\n",
    "| PRO_ID | PRO_NAME | PRO_DESC | CAT_ID |\n",
    "| --- | --- | --- | --- | \n",
    "| 1 | GTA V | DFJDJFDJFDJFDJFJF | 2 |\n",
    "| 2 | TSHIRT | DFDFJDFJDKFD | 5 | \n",
    "| 3 | ROG LAPTOP | DFNTTNTNTERND | 4 |\n",
    "| 4 | OATS | REURENTBTOTH | 3 |\n",
    "| 5 | HARRY POTTER | NBEMCTHTJTH | 1 |\n"
   ]
  },
  {
   "cell_type": "code",
   "execution_count": 20,
   "id": "cdfbdfad",
   "metadata": {
    "id": "cdfbdfad"
   },
   "outputs": [],
   "source": [
    "# insert into \"product\" table\n",
    "\n",
    "insert_query = \"INSERT INTO product(PRO_ID, PRO_NAME,PRO_DESC,CAT_ID) VALUES (%s, %s, %s, %s)\"\n",
    "val = [(1, \"GTA V\", \"DFJDJFDJFDJFDJFJF\", 2),\n",
    "       (2, \"TSHIRT\", \"DFDFJDFJDKFD\", 5),\n",
    "       (3, \"ROG LAPTOP\", \"DFNTTNTNTERND\", 4),\n",
    "       (4, \"OATS\", \"REURENTBTOTH\", 3),\n",
    "       (5, \"HARRY POTTER\", \"NBEMCTHTJTH\", 1)]\n",
    "\n",
    "cursorObject.executemany(insert_query, val)\n",
    "connection.commit()\n"
   ]
  },
  {
   "cell_type": "markdown",
   "id": "cfa8a47d",
   "metadata": {
    "id": "cfa8a47d"
   },
   "source": [
    "#### Table:  product_details\n",
    "| PROD_ID | PRO_ID | SUPP_ID | PROD_PRICE |\n",
    "| --- | --- | --- | --- | \n",
    "| 1 | 1 | 2 | 1500 |\n",
    "| 2 | 3 | 5 | 30000 | \n",
    "| 3 | 5 | 1 | 3000 |\n",
    "| 4 | 2 | 3 | 2500 |\n",
    "| 5 | 4 | 1 | 1000 |"
   ]
  },
  {
   "cell_type": "code",
   "execution_count": 21,
   "id": "c18ea964",
   "metadata": {
    "id": "c18ea964"
   },
   "outputs": [],
   "source": [
    "# insert into \"product_details\" table\n",
    "\n",
    "insert_query = \"INSERT INTO product_details(PROD_ID, PRO_ID, SUPP_ID, PROD_PRICE) VALUES (%s, %s, %s, %s)\"\n",
    "val = [(1, 1, 2, 1500),\n",
    "       (2, 3, 5, 30000),\n",
    "       (3, 5, 1, 3000),\n",
    "       (4, 2, 3, 2500),\n",
    "       (5, 4, 1, 1000)]\n",
    "\n",
    "cursorObject.executemany(insert_query, val)\n",
    "connection.commit()"
   ]
  },
  {
   "cell_type": "markdown",
   "id": "1df49086",
   "metadata": {
    "id": "1df49086"
   },
   "source": [
    "#### Table:  orders\n",
    "| ORD_ID | ORD_AMOUNT | ORD_DATE | CUS_ID | PROD_ID\n",
    "| --- | --- | --- | --- | --- |\n",
    "| 20 | 1500 | 2021-10-12 | 3 | 5 |\n",
    "| 25 | 30500 | 2021-09-16 | 5 | 2 |\n",
    "| 26 | 2000 | 2021-10-05 | 1 | 1 |\n",
    "| 30 | 3500 | 2021-08-16 | 4 | 3 |\n",
    "| 50 | 2000 | 2021-10-06 | 2 | 1 |"
   ]
  },
  {
   "cell_type": "code",
   "execution_count": 22,
   "id": "0d97dc92",
   "metadata": {
    "id": "0d97dc92"
   },
   "outputs": [],
   "source": [
    "# insert into \"orders\" table\n",
    "\n",
    "insert_query = \"INSERT INTO orders(ORD_ID, ORD_AMOUNT, ORD_DATE, CUS_ID, PROD_ID) VALUES (%s, %s, %s, %s, %s)\"\n",
    "val = [(20, 1500, '2021-10-12', 3, 5),\n",
    "       (25, 30500, '2021-09-16', 5, 2),\n",
    "       (26, 2000, '2021-10-05', 1, 1),\n",
    "       (30, 3500, '2021-08-16', 4, 3),\n",
    "       (50, 2000, '2021-10-06', 2, 1)]\n",
    "\n",
    "cursorObject.executemany(insert_query, val)\n",
    "connection.commit()"
   ]
  },
  {
   "cell_type": "markdown",
   "id": "75b8ce5f",
   "metadata": {
    "id": "75b8ce5f"
   },
   "source": [
    "#### Table: rating\n",
    "| RAT_ID | CUS_ID | SUPP_ID | RAT_RATSTARS |\n",
    "| --- | --- | --- | --- | \n",
    "| 1 | 2 | 2 | 4 |\n",
    "| 2 | 3 | 4 | 3 | \n",
    "| 3 | 5 | 1 | 5 |\n",
    "| 4 | 1 | 3 | 2 |\n",
    "| 5 | 4 | 5 | 4 |"
   ]
  },
  {
   "cell_type": "code",
   "execution_count": 23,
   "id": "6d5f1e18",
   "metadata": {
    "id": "6d5f1e18"
   },
   "outputs": [],
   "source": [
    "# insert into \"rating\" table\n",
    "\n",
    "insert_query = \"INSERT INTO rating(RAT_ID, CUS_ID, SUPP_ID, RAT_RATSTARS) VALUES (%s, %s, %s, %s)\"\n",
    "val = [(1, 2, 2, 4),\n",
    "       (2, 3, 4, 3),\n",
    "       (3, 5, 1, 5),\n",
    "       (4, 1, 3, 2),\n",
    "       (5, 4, 5, 4)]\n",
    "\n",
    "cursorObject.executemany(insert_query, val)\n",
    "connection.commit()\n",
    "\n",
    "connection.close()\n"
   ]
  },
  {
   "cell_type": "markdown",
   "id": "b59361c3",
   "metadata": {
    "id": "b59361c3"
   },
   "source": [
    "### Q3) Display the number of the customer group by their genders who have placed any order of amount greater than or equal to Rs.3000."
   ]
  },
  {
   "cell_type": "code",
   "execution_count": 24,
   "id": "fcafaf3c",
   "metadata": {
    "id": "fcafaf3c"
   },
   "outputs": [
    {
     "name": "stdout",
     "output_type": "stream",
     "text": [
      "(1, 'M')\n",
      "(1, 'F')\n"
     ]
    },
    {
     "data": {
      "text/html": [
       "<div>\n",
       "<style scoped>\n",
       "    .dataframe tbody tr th:only-of-type {\n",
       "        vertical-align: middle;\n",
       "    }\n",
       "\n",
       "    .dataframe tbody tr th {\n",
       "        vertical-align: top;\n",
       "    }\n",
       "\n",
       "    .dataframe thead th {\n",
       "        text-align: right;\n",
       "    }\n",
       "</style>\n",
       "<table border=\"1\" class=\"dataframe\">\n",
       "  <thead>\n",
       "    <tr style=\"text-align: right;\">\n",
       "      <th></th>\n",
       "      <th>Total_number_of_customers</th>\n",
       "      <th>CUS_GENDER</th>\n",
       "    </tr>\n",
       "  </thead>\n",
       "  <tbody>\n",
       "    <tr>\n",
       "      <th>0</th>\n",
       "      <td>1</td>\n",
       "      <td>M</td>\n",
       "    </tr>\n",
       "    <tr>\n",
       "      <th>1</th>\n",
       "      <td>1</td>\n",
       "      <td>F</td>\n",
       "    </tr>\n",
       "  </tbody>\n",
       "</table>\n",
       "</div>"
      ],
      "text/plain": [
       "   Total_number_of_customers CUS_GENDER\n",
       "0                          1          M\n",
       "1                          1          F"
      ]
     },
     "execution_count": 24,
     "metadata": {},
     "output_type": "execute_result"
    }
   ],
   "source": [
    "# connecting to Mysql sever\n",
    "connection = mysql.connector.connect(host=\"localhost\",\n",
    "                                    user=\"root\",\n",
    "                                    passwd=\"Appa@mysql9\",\n",
    "                                    database = \"e_commerce1\")\n",
    "\n",
    "# creating a cursor object\n",
    "cursorObject = connection.cursor()\n",
    "\n",
    "display_query = \"\"\"SELECT count(CUS_GENDER) as Total_number_of_customers, \n",
    "                   CUS_GENDER FROM\n",
    "                   (SELECT CUS_GENDER, CUS_NAME FROM customer AS customer_details\n",
    "                   INNER JOIN\n",
    "                   (SELECT ORD_ID, CUS_ID FROM orders WHERE ORD_AMOUNT >= 3000) AS order_details\n",
    "                   ON customer_details.CUS_ID = order_details.CUS_ID\n",
    "                   GROUP BY customer_details.CUS_ID) AS Tab\n",
    "                   GROUP BY CUS_GENDER;\"\"\"\n",
    "\n",
    "cursorObject.execute(display_query)\n",
    "   \n",
    "output = cursorObject.fetchall()\n",
    "   \n",
    "for x in output:\n",
    "    print(x)\n",
    "\n",
    "## output in pandas DataFrame \n",
    "output_df = pd.DataFrame(output, columns=['Total_number_of_customers', 'CUS_GENDER'])\n",
    "output_df"
   ]
  },
  {
   "cell_type": "markdown",
   "id": "e49e04f5",
   "metadata": {
    "id": "e49e04f5"
   },
   "source": [
    "### Q4) Display all the order along with product name ordered by a customer having Customer_Id=2;"
   ]
  },
  {
   "cell_type": "code",
   "execution_count": 25,
   "id": "9dcb7883",
   "metadata": {
    "id": "9dcb7883"
   },
   "outputs": [
    {
     "name": "stdout",
     "output_type": "stream",
     "text": [
      "('GTA V', 50, 2000, datetime.date(2021, 10, 6), 2, 1)\n"
     ]
    },
    {
     "data": {
      "text/html": [
       "<div>\n",
       "<style scoped>\n",
       "    .dataframe tbody tr th:only-of-type {\n",
       "        vertical-align: middle;\n",
       "    }\n",
       "\n",
       "    .dataframe tbody tr th {\n",
       "        vertical-align: top;\n",
       "    }\n",
       "\n",
       "    .dataframe thead th {\n",
       "        text-align: right;\n",
       "    }\n",
       "</style>\n",
       "<table border=\"1\" class=\"dataframe\">\n",
       "  <thead>\n",
       "    <tr style=\"text-align: right;\">\n",
       "      <th></th>\n",
       "      <th>PRO_NAME</th>\n",
       "      <th>ORD_ID</th>\n",
       "      <th>ORD_AMOUNT</th>\n",
       "      <th>ORD_DATE</th>\n",
       "      <th>CUS_ID</th>\n",
       "      <th>PROD_ID</th>\n",
       "    </tr>\n",
       "  </thead>\n",
       "  <tbody>\n",
       "    <tr>\n",
       "      <th>0</th>\n",
       "      <td>GTA V</td>\n",
       "      <td>50</td>\n",
       "      <td>2000</td>\n",
       "      <td>2021-10-06</td>\n",
       "      <td>2</td>\n",
       "      <td>1</td>\n",
       "    </tr>\n",
       "  </tbody>\n",
       "</table>\n",
       "</div>"
      ],
      "text/plain": [
       "  PRO_NAME  ORD_ID  ORD_AMOUNT    ORD_DATE  CUS_ID  PROD_ID\n",
       "0    GTA V      50        2000  2021-10-06       2        1"
      ]
     },
     "execution_count": 25,
     "metadata": {},
     "output_type": "execute_result"
    }
   ],
   "source": [
    "display_query = \"\"\"SELECT product.PRO_NAME, orders.* FROM orders, product_details, product\n",
    "                   WHERE orders.CUS_ID=2\n",
    "                   AND orders.PROD_ID = product_details.PROD_ID\n",
    "                   AND product_details.PRO_ID = product.PRO_ID;\"\"\"\n",
    "\n",
    "cursorObject.execute(display_query)\n",
    "   \n",
    "output = cursorObject.fetchall()\n",
    "   \n",
    "for x in output:\n",
    "    print(x)   \n",
    "\n",
    "##  output in pandas DataFrame \n",
    "output_df = pd.DataFrame(output, columns=['PRO_NAME','ORD_ID','ORD_AMOUNT', 'ORD_DATE', 'CUS_ID', 'PROD_ID'])\n",
    "output_df"
   ]
  },
  {
   "cell_type": "markdown",
   "id": "3a33398e",
   "metadata": {
    "id": "3a33398e"
   },
   "source": [
    "### Q5) Display the Supplier details who can supply more than one product."
   ]
  },
  {
   "cell_type": "code",
   "execution_count": 26,
   "id": "e933b979",
   "metadata": {
    "id": "e933b979"
   },
   "outputs": [
    {
     "name": "stdout",
     "output_type": "stream",
     "text": [
      "(1, 'Rajesh Retails', 'Delhi', '1234567890')\n"
     ]
    },
    {
     "data": {
      "text/html": [
       "<div>\n",
       "<style scoped>\n",
       "    .dataframe tbody tr th:only-of-type {\n",
       "        vertical-align: middle;\n",
       "    }\n",
       "\n",
       "    .dataframe tbody tr th {\n",
       "        vertical-align: top;\n",
       "    }\n",
       "\n",
       "    .dataframe thead th {\n",
       "        text-align: right;\n",
       "    }\n",
       "</style>\n",
       "<table border=\"1\" class=\"dataframe\">\n",
       "  <thead>\n",
       "    <tr style=\"text-align: right;\">\n",
       "      <th></th>\n",
       "      <th>SUPP_ID</th>\n",
       "      <th>SUPP_NAME</th>\n",
       "      <th>SUPP_CITY</th>\n",
       "      <th>SUPP_PHONE</th>\n",
       "    </tr>\n",
       "  </thead>\n",
       "  <tbody>\n",
       "    <tr>\n",
       "      <th>0</th>\n",
       "      <td>1</td>\n",
       "      <td>Rajesh Retails</td>\n",
       "      <td>Delhi</td>\n",
       "      <td>1234567890</td>\n",
       "    </tr>\n",
       "  </tbody>\n",
       "</table>\n",
       "</div>"
      ],
      "text/plain": [
       "   SUPP_ID       SUPP_NAME SUPP_CITY  SUPP_PHONE\n",
       "0        1  Rajesh Retails     Delhi  1234567890"
      ]
     },
     "execution_count": 26,
     "metadata": {},
     "output_type": "execute_result"
    }
   ],
   "source": [
    "display_query = \"\"\"SELECT SUPPLIER.* FROM supplier \n",
    "                   WHERE supplier.SUPP_ID IN \n",
    "                   (SELECT SUPP_ID FROM product_details\n",
    "                   GROUP BY SUPP_ID HAVING COUNT(SUPP_ID)>1)\n",
    "                   GROUP BY supplier.SUPP_ID;\"\"\"\n",
    "\n",
    "cursorObject.execute(display_query)\n",
    "   \n",
    "output = cursorObject.fetchall()\n",
    "   \n",
    "for x in output:\n",
    "    print(x)\n",
    "\n",
    "## output in pandas DataFrame \n",
    "output_df = pd.DataFrame(output, columns=['SUPP_ID', 'SUPP_NAME', 'SUPP_CITY', 'SUPP_PHONE'])\n",
    "output_df"
   ]
  },
  {
   "cell_type": "markdown",
   "id": "5fd319ef",
   "metadata": {
    "id": "5fd319ef"
   },
   "source": [
    "### Q6) Find the category of the product whose order amount is minimum."
   ]
  },
  {
   "cell_type": "code",
   "execution_count": 27,
   "id": "06f5cb51",
   "metadata": {
    "id": "06f5cb51"
   },
   "outputs": [
    {
     "name": "stdout",
     "output_type": "stream",
     "text": [
      "('BOOKS',)\n"
     ]
    },
    {
     "data": {
      "text/html": [
       "<div>\n",
       "<style scoped>\n",
       "    .dataframe tbody tr th:only-of-type {\n",
       "        vertical-align: middle;\n",
       "    }\n",
       "\n",
       "    .dataframe tbody tr th {\n",
       "        vertical-align: top;\n",
       "    }\n",
       "\n",
       "    .dataframe thead th {\n",
       "        text-align: right;\n",
       "    }\n",
       "</style>\n",
       "<table border=\"1\" class=\"dataframe\">\n",
       "  <thead>\n",
       "    <tr style=\"text-align: right;\">\n",
       "      <th></th>\n",
       "      <th>CAT_NAME</th>\n",
       "    </tr>\n",
       "  </thead>\n",
       "  <tbody>\n",
       "    <tr>\n",
       "      <th>0</th>\n",
       "      <td>BOOKS</td>\n",
       "    </tr>\n",
       "  </tbody>\n",
       "</table>\n",
       "</div>"
      ],
      "text/plain": [
       "  CAT_NAME\n",
       "0    BOOKS"
      ]
     },
     "execution_count": 27,
     "metadata": {},
     "output_type": "execute_result"
    }
   ],
   "source": [
    "search_query = \"\"\" SELECT CAT_NAME FROM orders \n",
    "                   JOIN product ON orders.PROD_ID = product.PRO_ID\n",
    "                   JOIN category ON product.CAT_ID = category.CAT_ID \n",
    "                   WHERE orders.ORD_AMOUNT = (SELECT MIN(ORD_AMOUNT) FROM orders);\"\"\"\n",
    "\n",
    "cursorObject.execute(search_query)\n",
    "   \n",
    "output = cursorObject.fetchall()\n",
    "   \n",
    "for x in output:\n",
    "    print(x)\n",
    "    \n",
    "## output in pandas DataFrame \n",
    "output_df = pd.DataFrame(output, columns=['CAT_NAME'])\n",
    "output_df"
   ]
  },
  {
   "cell_type": "markdown",
   "id": "107102d4",
   "metadata": {
    "id": "107102d4"
   },
   "source": [
    "### Q7) Display the Id and Name of the Product ordered after “2021-10-05”."
   ]
  },
  {
   "cell_type": "code",
   "execution_count": 28,
   "id": "5d3fc7e8",
   "metadata": {
    "id": "5d3fc7e8"
   },
   "outputs": [
    {
     "name": "stdout",
     "output_type": "stream",
     "text": [
      "(4, 'OATS')\n",
      "(1, 'GTA V')\n"
     ]
    },
    {
     "data": {
      "text/html": [
       "<div>\n",
       "<style scoped>\n",
       "    .dataframe tbody tr th:only-of-type {\n",
       "        vertical-align: middle;\n",
       "    }\n",
       "\n",
       "    .dataframe tbody tr th {\n",
       "        vertical-align: top;\n",
       "    }\n",
       "\n",
       "    .dataframe thead th {\n",
       "        text-align: right;\n",
       "    }\n",
       "</style>\n",
       "<table border=\"1\" class=\"dataframe\">\n",
       "  <thead>\n",
       "    <tr style=\"text-align: right;\">\n",
       "      <th></th>\n",
       "      <th>PRO_ID</th>\n",
       "      <th>PRO_NAME</th>\n",
       "    </tr>\n",
       "  </thead>\n",
       "  <tbody>\n",
       "    <tr>\n",
       "      <th>0</th>\n",
       "      <td>4</td>\n",
       "      <td>OATS</td>\n",
       "    </tr>\n",
       "    <tr>\n",
       "      <th>1</th>\n",
       "      <td>1</td>\n",
       "      <td>GTA V</td>\n",
       "    </tr>\n",
       "  </tbody>\n",
       "</table>\n",
       "</div>"
      ],
      "text/plain": [
       "   PRO_ID PRO_NAME\n",
       "0       4     OATS\n",
       "1       1    GTA V"
      ]
     },
     "execution_count": 28,
     "metadata": {},
     "output_type": "execute_result"
    }
   ],
   "source": [
    "display_query = \"\"\"SELECT product.PRO_ID, product.PRO_NAME FROM orders\n",
    "                   INNER JOIN\n",
    "                   product_details ON product_details.PROD_ID = orders.PROD_ID\n",
    "                   INNER JOIN\n",
    "                   product on product.PRO_ID = product_details.PRO_ID\n",
    "                   WHERE orders.ORD_DATE > \"2021-10-05\";\"\"\"\n",
    "\n",
    "cursorObject.execute(display_query)\n",
    "   \n",
    "output = cursorObject.fetchall()\n",
    "   \n",
    "for x in output:\n",
    "    print(x)\n",
    "    \n",
    "## output in pandas DataFrame \n",
    "output_df = pd.DataFrame(output, columns=['PRO_ID', 'PRO_NAME'])\n",
    "output_df  "
   ]
  },
  {
   "cell_type": "markdown",
   "id": "bdce7167",
   "metadata": {
    "id": "bdce7167"
   },
   "source": [
    "### Q8) Print the top 3 supplier name and id and rating on the basis of their rating along with the customer name who has given the rating."
   ]
  },
  {
   "cell_type": "code",
   "execution_count": 29,
   "id": "fa0cbe44",
   "metadata": {
    "id": "fa0cbe44"
   },
   "outputs": [
    {
     "name": "stdout",
     "output_type": "stream",
     "text": [
      "(1, 'Rajesh Retails', 5, 'PULKIT')\n",
      "(2, 'Appario Ltd.', 4, 'AMAN')\n",
      "(5, 'Mittal Ltd.', 4, 'MEGHA')\n"
     ]
    },
    {
     "data": {
      "text/html": [
       "<div>\n",
       "<style scoped>\n",
       "    .dataframe tbody tr th:only-of-type {\n",
       "        vertical-align: middle;\n",
       "    }\n",
       "\n",
       "    .dataframe tbody tr th {\n",
       "        vertical-align: top;\n",
       "    }\n",
       "\n",
       "    .dataframe thead th {\n",
       "        text-align: right;\n",
       "    }\n",
       "</style>\n",
       "<table border=\"1\" class=\"dataframe\">\n",
       "  <thead>\n",
       "    <tr style=\"text-align: right;\">\n",
       "      <th></th>\n",
       "      <th>SUPP_ID</th>\n",
       "      <th>SUPP_NAME</th>\n",
       "      <th>RAT_RATSTARS</th>\n",
       "      <th>CUS_NAME</th>\n",
       "    </tr>\n",
       "  </thead>\n",
       "  <tbody>\n",
       "    <tr>\n",
       "      <th>0</th>\n",
       "      <td>1</td>\n",
       "      <td>Rajesh Retails</td>\n",
       "      <td>5</td>\n",
       "      <td>PULKIT</td>\n",
       "    </tr>\n",
       "    <tr>\n",
       "      <th>1</th>\n",
       "      <td>2</td>\n",
       "      <td>Appario Ltd.</td>\n",
       "      <td>4</td>\n",
       "      <td>AMAN</td>\n",
       "    </tr>\n",
       "    <tr>\n",
       "      <th>2</th>\n",
       "      <td>5</td>\n",
       "      <td>Mittal Ltd.</td>\n",
       "      <td>4</td>\n",
       "      <td>MEGHA</td>\n",
       "    </tr>\n",
       "  </tbody>\n",
       "</table>\n",
       "</div>"
      ],
      "text/plain": [
       "   SUPP_ID       SUPP_NAME  RAT_RATSTARS CUS_NAME\n",
       "0        1  Rajesh Retails             5   PULKIT\n",
       "1        2    Appario Ltd.             4     AMAN\n",
       "2        5     Mittal Ltd.             4    MEGHA"
      ]
     },
     "execution_count": 29,
     "metadata": {},
     "output_type": "execute_result"
    }
   ],
   "source": [
    "search_query = \"\"\"SELECT s.SUPP_ID, s.SUPP_NAME, r.RAT_RATSTARS, c.CUS_NAME \n",
    "                  FROM rating r JOIN supplier s ON r.SUPP_ID = s.SUPP_ID\n",
    "                  JOIN customer c ON r.CUS_ID = c.CUS_ID\n",
    "                  ORDER BY r.RAT_RATSTARS DESC LIMIT 3;\"\"\"\n",
    "\n",
    "cursorObject.execute(search_query)\n",
    "   \n",
    "output = cursorObject.fetchall()\n",
    "   \n",
    "for x in output:\n",
    "    print(x)\n",
    "    \n",
    "## output in pandas DataFrame \n",
    "output_df = pd.DataFrame(output, columns=['SUPP_ID', 'SUPP_NAME', 'RAT_RATSTARS', 'CUS_NAME'])\n",
    "output_df"
   ]
  },
  {
   "cell_type": "markdown",
   "id": "346ec2a1",
   "metadata": {
    "id": "346ec2a1"
   },
   "source": [
    "### Q9) Display customer name and gender whose names start or end with character 'A'."
   ]
  },
  {
   "cell_type": "code",
   "execution_count": 30,
   "id": "e571b5fd",
   "metadata": {
    "id": "e571b5fd"
   },
   "outputs": [
    {
     "name": "stdout",
     "output_type": "stream",
     "text": [
      "('AAKASH', 'M')\n",
      "('AMAN', 'M')\n",
      "('NEHA', 'F')\n",
      "('MEGHA', 'F')\n"
     ]
    },
    {
     "data": {
      "text/html": [
       "<div>\n",
       "<style scoped>\n",
       "    .dataframe tbody tr th:only-of-type {\n",
       "        vertical-align: middle;\n",
       "    }\n",
       "\n",
       "    .dataframe tbody tr th {\n",
       "        vertical-align: top;\n",
       "    }\n",
       "\n",
       "    .dataframe thead th {\n",
       "        text-align: right;\n",
       "    }\n",
       "</style>\n",
       "<table border=\"1\" class=\"dataframe\">\n",
       "  <thead>\n",
       "    <tr style=\"text-align: right;\">\n",
       "      <th></th>\n",
       "      <th>CUS_NAME</th>\n",
       "      <th>CUS_GENDER</th>\n",
       "    </tr>\n",
       "  </thead>\n",
       "  <tbody>\n",
       "    <tr>\n",
       "      <th>0</th>\n",
       "      <td>AAKASH</td>\n",
       "      <td>M</td>\n",
       "    </tr>\n",
       "    <tr>\n",
       "      <th>1</th>\n",
       "      <td>AMAN</td>\n",
       "      <td>M</td>\n",
       "    </tr>\n",
       "    <tr>\n",
       "      <th>2</th>\n",
       "      <td>NEHA</td>\n",
       "      <td>F</td>\n",
       "    </tr>\n",
       "    <tr>\n",
       "      <th>3</th>\n",
       "      <td>MEGHA</td>\n",
       "      <td>F</td>\n",
       "    </tr>\n",
       "  </tbody>\n",
       "</table>\n",
       "</div>"
      ],
      "text/plain": [
       "  CUS_NAME CUS_GENDER\n",
       "0   AAKASH          M\n",
       "1     AMAN          M\n",
       "2     NEHA          F\n",
       "3    MEGHA          F"
      ]
     },
     "execution_count": 30,
     "metadata": {},
     "output_type": "execute_result"
    }
   ],
   "source": [
    "display_query = \"\"\"SELECT customer.CUS_NAME, customer.CUS_GENDER \n",
    "                   FROM customer WHERE customer.CUS_NAME LIKE 'A%' \n",
    "                   OR customer.CUS_NAME LIKE '%A';\"\"\"\n",
    "\n",
    "cursorObject.execute(display_query)\n",
    "   \n",
    "output = cursorObject.fetchall()\n",
    "   \n",
    "for x in output:\n",
    "    print(x)\n",
    "    \n",
    "## output in pandas DataFrame \n",
    "output_df = pd.DataFrame(output, columns=['CUS_NAME', 'CUS_GENDER'])\n",
    "output_df"
   ]
  },
  {
   "cell_type": "markdown",
   "id": "d0b01f77",
   "metadata": {
    "id": "d0b01f77"
   },
   "source": [
    "### Q10) Display the total order amount of the male customers."
   ]
  },
  {
   "cell_type": "code",
   "execution_count": 31,
   "id": "c3fa76e3",
   "metadata": {
    "id": "c3fa76e3"
   },
   "outputs": [
    {
     "name": "stdout",
     "output_type": "stream",
     "text": [
      "(Decimal('34500'),)\n"
     ]
    },
    {
     "data": {
      "text/html": [
       "<div>\n",
       "<style scoped>\n",
       "    .dataframe tbody tr th:only-of-type {\n",
       "        vertical-align: middle;\n",
       "    }\n",
       "\n",
       "    .dataframe tbody tr th {\n",
       "        vertical-align: top;\n",
       "    }\n",
       "\n",
       "    .dataframe thead th {\n",
       "        text-align: right;\n",
       "    }\n",
       "</style>\n",
       "<table border=\"1\" class=\"dataframe\">\n",
       "  <thead>\n",
       "    <tr style=\"text-align: right;\">\n",
       "      <th></th>\n",
       "      <th>TotalOrderAmount</th>\n",
       "    </tr>\n",
       "  </thead>\n",
       "  <tbody>\n",
       "    <tr>\n",
       "      <th>0</th>\n",
       "      <td>34500</td>\n",
       "    </tr>\n",
       "  </tbody>\n",
       "</table>\n",
       "</div>"
      ],
      "text/plain": [
       "  TotalOrderAmount\n",
       "0            34500"
      ]
     },
     "execution_count": 31,
     "metadata": {},
     "output_type": "execute_result"
    }
   ],
   "source": [
    "display_query = \"\"\"SELECT SUM(o.ORD_AMOUNT) AS TotalOrderAmount\n",
    "                   FROM orders o\n",
    "                   JOIN customer c ON o.CUS_ID = c.CUS_ID\n",
    "                   WHERE c.CUS_GENDER = 'M'\"\"\"\n",
    "\n",
    "cursorObject.execute(display_query)\n",
    "   \n",
    "output = cursorObject.fetchall()\n",
    "   \n",
    "for x in output:\n",
    "    print(x)\n",
    "    \n",
    "## output in pandas DataFrame \n",
    "output_df = pd.DataFrame(output, columns=['TotalOrderAmount'])\n",
    "output_df"
   ]
  },
  {
   "cell_type": "markdown",
   "id": "ff8a9971",
   "metadata": {
    "id": "ff8a9971"
   },
   "source": [
    "### Q11) Display all the Customers left outer join with  the orders"
   ]
  },
  {
   "cell_type": "code",
   "execution_count": 32,
   "id": "a340c6d6",
   "metadata": {
    "id": "a340c6d6"
   },
   "outputs": [
    {
     "name": "stdout",
     "output_type": "stream",
     "text": [
      "(1, 'AAKASH', '9999999999', 'DELHI', 'M', 26, 2000, datetime.date(2021, 10, 5), 1)\n",
      "(2, 'AMAN', '9785463215', 'NOIDA', 'M', 50, 2000, datetime.date(2021, 10, 6), 1)\n",
      "(3, 'NEHA', '9999999998', 'MUMBAI', 'F', 20, 1500, datetime.date(2021, 10, 12), 5)\n",
      "(4, 'MEGHA', '9994562399', 'KOLKATA', 'F', 30, 3500, datetime.date(2021, 8, 16), 3)\n",
      "(5, 'PULKIT', '7895999999', 'LUCKNOW', 'M', 25, 30500, datetime.date(2021, 9, 16), 2)\n"
     ]
    },
    {
     "data": {
      "text/html": [
       "<div>\n",
       "<style scoped>\n",
       "    .dataframe tbody tr th:only-of-type {\n",
       "        vertical-align: middle;\n",
       "    }\n",
       "\n",
       "    .dataframe tbody tr th {\n",
       "        vertical-align: top;\n",
       "    }\n",
       "\n",
       "    .dataframe thead th {\n",
       "        text-align: right;\n",
       "    }\n",
       "</style>\n",
       "<table border=\"1\" class=\"dataframe\">\n",
       "  <thead>\n",
       "    <tr style=\"text-align: right;\">\n",
       "      <th></th>\n",
       "      <th>CUS_ID</th>\n",
       "      <th>CUS_NAME</th>\n",
       "      <th>CUS_PHONE</th>\n",
       "      <th>CUS_CITY</th>\n",
       "      <th>CUS_GENDER</th>\n",
       "      <th>ORD_ID</th>\n",
       "      <th>ORD_AMOUNT</th>\n",
       "      <th>ORD_DATE</th>\n",
       "      <th>PROD_ID</th>\n",
       "    </tr>\n",
       "  </thead>\n",
       "  <tbody>\n",
       "    <tr>\n",
       "      <th>0</th>\n",
       "      <td>1</td>\n",
       "      <td>AAKASH</td>\n",
       "      <td>9999999999</td>\n",
       "      <td>DELHI</td>\n",
       "      <td>M</td>\n",
       "      <td>26</td>\n",
       "      <td>2000</td>\n",
       "      <td>2021-10-05</td>\n",
       "      <td>1</td>\n",
       "    </tr>\n",
       "    <tr>\n",
       "      <th>1</th>\n",
       "      <td>2</td>\n",
       "      <td>AMAN</td>\n",
       "      <td>9785463215</td>\n",
       "      <td>NOIDA</td>\n",
       "      <td>M</td>\n",
       "      <td>50</td>\n",
       "      <td>2000</td>\n",
       "      <td>2021-10-06</td>\n",
       "      <td>1</td>\n",
       "    </tr>\n",
       "    <tr>\n",
       "      <th>2</th>\n",
       "      <td>3</td>\n",
       "      <td>NEHA</td>\n",
       "      <td>9999999998</td>\n",
       "      <td>MUMBAI</td>\n",
       "      <td>F</td>\n",
       "      <td>20</td>\n",
       "      <td>1500</td>\n",
       "      <td>2021-10-12</td>\n",
       "      <td>5</td>\n",
       "    </tr>\n",
       "    <tr>\n",
       "      <th>3</th>\n",
       "      <td>4</td>\n",
       "      <td>MEGHA</td>\n",
       "      <td>9994562399</td>\n",
       "      <td>KOLKATA</td>\n",
       "      <td>F</td>\n",
       "      <td>30</td>\n",
       "      <td>3500</td>\n",
       "      <td>2021-08-16</td>\n",
       "      <td>3</td>\n",
       "    </tr>\n",
       "    <tr>\n",
       "      <th>4</th>\n",
       "      <td>5</td>\n",
       "      <td>PULKIT</td>\n",
       "      <td>7895999999</td>\n",
       "      <td>LUCKNOW</td>\n",
       "      <td>M</td>\n",
       "      <td>25</td>\n",
       "      <td>30500</td>\n",
       "      <td>2021-09-16</td>\n",
       "      <td>2</td>\n",
       "    </tr>\n",
       "  </tbody>\n",
       "</table>\n",
       "</div>"
      ],
      "text/plain": [
       "   CUS_ID CUS_NAME   CUS_PHONE CUS_CITY CUS_GENDER  ORD_ID  ORD_AMOUNT  \\\n",
       "0       1   AAKASH  9999999999    DELHI          M      26        2000   \n",
       "1       2     AMAN  9785463215    NOIDA          M      50        2000   \n",
       "2       3     NEHA  9999999998   MUMBAI          F      20        1500   \n",
       "3       4    MEGHA  9994562399  KOLKATA          F      30        3500   \n",
       "4       5   PULKIT  7895999999  LUCKNOW          M      25       30500   \n",
       "\n",
       "     ORD_DATE  PROD_ID  \n",
       "0  2021-10-05        1  \n",
       "1  2021-10-06        1  \n",
       "2  2021-10-12        5  \n",
       "3  2021-08-16        3  \n",
       "4  2021-09-16        2  "
      ]
     },
     "execution_count": 32,
     "metadata": {},
     "output_type": "execute_result"
    }
   ],
   "source": [
    "display_query = \"\"\"SELECT c.CUS_ID, c.CUS_NAME, c.CUS_PHONE, c.CUS_CITY, c.CUS_GENDER, \n",
    "                   o.ORD_ID, o.ORD_AMOUNT, o.ORD_DATE, o.PROD_ID \n",
    "                   FROM customer c\n",
    "                   LEFT JOIN orders o ON c.CUS_ID = o.CUS_ID;\"\"\"\n",
    "\n",
    "cursorObject.execute(display_query)\n",
    "   \n",
    "output = cursorObject.fetchall()\n",
    "   \n",
    "for x in output:\n",
    "    print(x)\n",
    "    \n",
    "## output in pandas DataFrame \n",
    "output_df = pd.DataFrame(output, columns=['CUS_ID', 'CUS_NAME', 'CUS_PHONE', 'CUS_CITY', 'CUS_GENDER', 'ORD_ID', 'ORD_AMOUNT', 'ORD_DATE', 'PROD_ID'])\n",
    "output_df"
   ]
  },
  {
   "cell_type": "code",
   "execution_count": 33,
   "id": "eeca7154",
   "metadata": {},
   "outputs": [],
   "source": [
    "# closing the connection after performing database opertions on hr schema\n",
    "connection.close()"
   ]
  },
  {
   "cell_type": "markdown",
   "id": "0a72afe3",
   "metadata": {
    "id": "0a72afe3"
   },
   "source": [
    "**NOTE:** Always close an open connection once you are done with the database operations"
   ]
  },
  {
   "cell_type": "markdown",
   "id": "8c88f479",
   "metadata": {
    "id": "8c88f479"
   },
   "source": [
    "## Happy Learning:)"
   ]
  }
 ],
 "metadata": {
  "colab": {
   "name": "Lab Session  -  E-Commerce.ipynb",
   "provenance": []
  },
  "kernelspec": {
   "display_name": "Python 3 (ipykernel)",
   "language": "python",
   "name": "python3"
  },
  "language_info": {
   "codemirror_mode": {
    "name": "ipython",
    "version": 3
   },
   "file_extension": ".py",
   "mimetype": "text/x-python",
   "name": "python",
   "nbconvert_exporter": "python",
   "pygments_lexer": "ipython3",
   "version": "3.8.7"
  }
 },
 "nbformat": 4,
 "nbformat_minor": 5
}
